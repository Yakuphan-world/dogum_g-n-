{
 "cells": [
  {
   "cell_type": "code",
   "execution_count": 1,
   "metadata": {},
   "outputs": [
    {
     "name": "stdout",
     "output_type": "stream",
     "text": [
      "Doğum gününe 336 gün kaldı.\n"
     ]
    }
   ],
   "source": [
    "from datetime import date\n",
    "bugun = date.today()\n",
    "ay  = 10\n",
    "gun = 17\n",
    "dogum_gunum = date(bugun.year, ay, gun)\n",
    "if dogum_gunum<bugun:\n",
    "    dogum_gunum = dogum_gunum.replace(year=bugun.year+1)\n",
    "print(f\"Doğum gününe {(dogum_gunum-bugun).days} gün kaldı.\")"
   ]
  }
 ],
 "metadata": {
  "kernelspec": {
   "display_name": "Python 3.10.7 64-bit",
   "language": "python",
   "name": "python3"
  },
  "language_info": {
   "codemirror_mode": {
    "name": "ipython",
    "version": 3
   },
   "file_extension": ".py",
   "mimetype": "text/x-python",
   "name": "python",
   "nbconvert_exporter": "python",
   "pygments_lexer": "ipython3",
   "version": "3.10.7"
  },
  "orig_nbformat": 4,
  "vscode": {
   "interpreter": {
    "hash": "aee8b7b246df8f9039afb4144a1f6fd8d2ca17a180786b69acc140d282b71a49"
   }
  }
 },
 "nbformat": 4,
 "nbformat_minor": 2
}
